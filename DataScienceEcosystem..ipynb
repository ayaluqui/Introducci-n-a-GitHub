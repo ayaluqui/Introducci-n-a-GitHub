{
 "cells": [
  {
   "cell_type": "markdown",
   "id": "a0db374e-4bb8-4450-b7af-56ba3e46b191",
   "metadata": {},
   "source": [
    "<h1>Data Science Tools and Ecosystem<h1>"
   ]
  },
  {
   "cell_type": "markdown",
   "id": "8f284274-3d94-4c64-9090-730b8f10bdf1",
   "metadata": {},
   "source": [
    "<h6>En este cuaderno, se resumen las herramientas y ecosistemas de ciencia de datos.<h6>"
   ]
  },
  {
   "cell_type": "markdown",
   "id": "17b0ca72-d637-4427-8b07-01b4d6d3226c",
   "metadata": {},
   "source": [
    "<h3><b>Objetivos:\n",
    "<h5>Listar lenguajes populares para Ciencia de Datos<h5>\n",
    "Bibliotecas populares de cienciancia de datos<h5>\n",
    "Ejeplos de uso de etiquetas<h5>\n",
    "Introductorio a RStudio<h5>\n",
    "Introductor a Git HUB<h5>\n",
    "Bases de Datos para un estudio practico de IBM"
   ]
  },
  {
   "cell_type": "markdown",
   "id": "888a168b-0633-4a82-b2c0-888807d3b3b4",
   "metadata": {},
   "source": [
    "<h5>Algunos de los lenguajes populares que utilizan los científicos de datos son:<h5>\n",
    "    1.-RStudio<h5>\n",
    "    2.- Phyton<h5>\n",
    "    3.-SQL"
   ]
  },
  {
   "cell_type": "markdown",
   "id": "cf505504-7b16-499f-9e87-a0aba1db3cad",
   "metadata": {},
   "source": [
    "<h5>Algunas de las bibliotecas comúnmente utilizadas por los científicos de datos incluyen:<h5>\n",
    "1.-MatplotLib<h5>\n",
    "2.-SkLearn<h5>\n",
    "3.-Pandas<h5>\n",
    "4.-GGplot"
   ]
  },
  {
   "cell_type": "markdown",
   "id": "d54ff421-b1ab-4bd1-b161-0e92d1756b43",
   "metadata": {},
   "source": [
    "<h5>Herramientas de Ciencia de Datos<h5>\n",
    "1.-SQL<h5>\n",
    "2.-GIT HUB<h5>\n",
    "3.-RStudio"
   ]
  },
  {
   "cell_type": "markdown",
   "id": "39bb60a7-1e47-40c0-9925-119e2a33323b",
   "metadata": {},
   "source": [
    "<h3>A continuación, se presentan algunos ejemplos de evaluación de expresiones aritméticas en Python<h3>\n",
    "22 + 43 / 3<h3>\n",
    "56 * 6 ** 5<h3>\n",
    "98 - 43 * 4"
   ]
  },
  {
   "cell_type": "markdown",
   "id": "9b0eef85-0824-417e-b13e-a779513ff890",
   "metadata": {},
   "source": [
    "<h5>Esta es una expresión aritmética simple para multiplicar y luego sumar enteros<h5>"
   ]
  },
  {
   "cell_type": "code",
   "execution_count": 26,
   "id": "b92e8474-c8db-4150-80eb-3186a72ce79c",
   "metadata": {},
   "outputs": [
    {
     "data": {
      "text/plain": [
       "17"
      ]
     },
     "execution_count": 26,
     "metadata": {},
     "output_type": "execute_result"
    }
   ],
   "source": [
    "(3*4)+5"
   ]
  },
  {
   "cell_type": "markdown",
   "id": "354162fd-6793-4f6c-91ee-a834b053f64e",
   "metadata": {},
   "source": [
    "<h5>Esto convertirá 200 minutos a horas dividiendo por 60<h5>"
   ]
  },
  {
   "cell_type": "code",
   "execution_count": 29,
   "id": "fdf82e02-72ff-4c1a-bacf-f9ffa89b6d2b",
   "metadata": {},
   "outputs": [
    {
     "data": {
      "text/plain": [
       "3.3333333333333335"
      ]
     },
     "execution_count": 29,
     "metadata": {},
     "output_type": "execute_result"
    }
   ],
   "source": [
    "200 / 60"
   ]
  },
  {
   "cell_type": "markdown",
   "id": "4415cb15-2a4e-4aaf-bc2c-53da1bfa7faa",
   "metadata": {},
   "source": [
    "<h2>Autor:<h2>\n",
    "   <b><h5>Leonardo Abraham Ayala Guzman"
   ]
  },
  {
   "cell_type": "code",
   "execution_count": null,
   "id": "aa95155a-e19e-430b-b734-6151f2d71404",
   "metadata": {},
   "outputs": [],
   "source": []
  },
  {
   "cell_type": "code",
   "execution_count": null,
   "id": "07dddf71-fce0-45ad-8e65-d8f050194631",
   "metadata": {},
   "outputs": [],
   "source": []
  }
 ],
 "metadata": {
  "kernelspec": {
   "display_name": "Python [conda env:base] *",
   "language": "python",
   "name": "conda-base-py"
  },
  "language_info": {
   "codemirror_mode": {
    "name": "ipython",
    "version": 3
   },
   "file_extension": ".py",
   "mimetype": "text/x-python",
   "name": "python",
   "nbconvert_exporter": "python",
   "pygments_lexer": "ipython3",
   "version": "3.12.7"
  }
 },
 "nbformat": 4,
 "nbformat_minor": 5
}
